{
 "cells": [
  {
   "cell_type": "code",
   "execution_count": 1,
   "metadata": {
    "id": "nGWnoDshbj0O"
   },
   "outputs": [],
   "source": [
    "import pandas as pd"
   ]
  },
  {
   "cell_type": "code",
   "execution_count": 2,
   "metadata": {
    "id": "Lu75wXv9aySl"
   },
   "outputs": [],
   "source": [
    "data={\n",
    "\n",
    "      'ID': [1,2,3,4,5,6],\n",
    "      'Name': ['Atharva','Aditya','Shadab','Fuzail','Govind','Sangharsh'],\n",
    "      'Age' : [20,22,24,26,28,30],\n",
    "      'Country' : ['India','Australia','South Africa','England','New Zealand','West Indies'],\n",
    "      'Sales': [200,450,300,800,700,1000]\n",
    "\n",
    "}"
   ]
  },
  {
   "cell_type": "code",
   "execution_count": 5,
   "metadata": {
    "colab": {
     "base_uri": "https://localhost:8080/"
    },
    "id": "oT3gpyhucQ-2",
    "outputId": "1afaf3c9-b3f0-4bd7-b9f3-efbbb972097b"
   },
   "outputs": [
    {
     "name": "stdout",
     "output_type": "stream",
     "text": [
      "Orginal Dataset\n",
      "   ID       Name  Age       Country  Sales\n",
      "0   1    Atharva   20         India    200\n",
      "1   2     Aditya   22     Australia    450\n",
      "2   3     Shadab   24  South Africa    300\n",
      "3   4     Fuzail   26       England    800\n",
      "4   5     Govind   28   New Zealand    700\n",
      "5   6  Sangharsh   30   West Indies   1000\n"
     ]
    }
   ],
   "source": [
    "df=pd.DataFrame(data)\n",
    "\n",
    "print(\"Orginal Dataset\")\n",
    "print(df)"
   ]
  },
  {
   "cell_type": "code",
   "execution_count": 7,
   "metadata": {
    "colab": {
     "base_uri": "https://localhost:8080/"
    },
    "id": "cMpb2JMvceUC",
    "outputId": "20a42fcb-edca-4f1e-95ec-2cfd61c0745f"
   },
   "outputs": [
    {
     "name": "stdout",
     "output_type": "stream",
     "text": [
      "Dataset after adding new column\n",
      "   ID       Name Name_Upper\n",
      "0   1    Atharva    ATHARVA\n",
      "1   2     Aditya     ADITYA\n",
      "2   3     Shadab     SHADAB\n",
      "3   4     Fuzail     FUZAIL\n",
      "4   5     Govind     GOVIND\n",
      "5   6  Sangharsh  SANGHARSH\n"
     ]
    }
   ],
   "source": [
    "df['Name_Upper']=df['Name'].str.upper()\n",
    "\n",
    "print(\"Dataset after adding new column\")\n",
    "print(df[['ID','Name','Name_Upper']])"
   ]
  },
  {
   "cell_type": "code",
   "execution_count": 9,
   "metadata": {
    "colab": {
     "base_uri": "https://localhost:8080/"
    },
    "id": "tMvcC4rVdZVU",
    "outputId": "8b4d9a9e-04ad-41df-d15b-869d5ce4d8d3"
   },
   "outputs": [
    {
     "name": "stdout",
     "output_type": "stream",
     "text": [
      "\n",
      "Multicast (Modified Copies):\n",
      "Copy 1 (Sales Increased):\n",
      "   ID       Name  Age       Country   Sales Name_Upper\n",
      "0   1    Atharva   20         India   220.0    ATHARVA\n",
      "1   2     Aditya   22     Australia   495.0     ADITYA\n",
      "2   3     Shadab   24  South Africa   330.0     SHADAB\n",
      "3   4     Fuzail   26       England   880.0     FUZAIL\n",
      "4   5     Govind   28   New Zealand   770.0     GOVIND\n",
      "5   6  Sangharsh   30   West Indies  1100.0  SANGHARSH\n",
      "\n",
      "Copy 2 (Age Increased):\n",
      "   ID       Name  Age       Country  Sales Name_Upper\n",
      "0   1    Atharva   25         India    200    ATHARVA\n",
      "1   2     Aditya   27     Australia    450     ADITYA\n",
      "2   3     Shadab   29  South Africa    300     SHADAB\n",
      "3   4     Fuzail   31       England    800     FUZAIL\n",
      "4   5     Govind   33   New Zealand    700     GOVIND\n",
      "5   6  Sangharsh   35   West Indies   1000  SANGHARSH\n"
     ]
    }
   ],
   "source": [
    "df_copy1=df.copy()\n",
    "df_copy2=df.copy()\n",
    "\n",
    "df_copy1['Sales'] *= 1.1\n",
    "df_copy2['Age'] += 5\n",
    "\n",
    "print(\"\\nMulticast (Modified Copies):\")\n",
    "print(\"Copy 1 (Sales Increased):\")\n",
    "print(df_copy1)\n",
    "print(\"\\nCopy 2 (Age Increased):\")\n",
    "print(df_copy2)"
   ]
  },
  {
   "cell_type": "code",
   "execution_count": 11,
   "metadata": {
    "colab": {
     "base_uri": "https://localhost:8080/"
    },
    "id": "NqX3vYK6fXG6",
    "outputId": "e1ad973e-cdbb-4b47-b05a-2c9c19f1ecf4"
   },
   "outputs": [
    {
     "name": "stdout",
     "output_type": "stream",
     "text": [
      "\n",
      "Conditional Split:\n",
      "High Sales:\n",
      "   ID       Name  Age      Country  Sales Name_Upper\n",
      "1   2     Aditya   22    Australia    450     ADITYA\n",
      "3   4     Fuzail   26      England    800     FUZAIL\n",
      "4   5     Govind   28  New Zealand    700     GOVIND\n",
      "5   6  Sangharsh   30  West Indies   1000  SANGHARSH\n",
      "\n",
      "Low Sales:\n",
      "   ID     Name  Age       Country  Sales Name_Upper\n",
      "0   1  Atharva   20         India    200    ATHARVA\n",
      "2   3   Shadab   24  South Africa    300     SHADAB\n"
     ]
    }
   ],
   "source": [
    "high_sales=df[df['Sales']>300]\n",
    "low_sales=df[df['Sales']<=300]\n",
    "print(\"\\nConditional Split:\")\n",
    "print(\"High Sales:\")\n",
    "print(high_sales)\n",
    "print(\"\\nLow Sales:\")\n",
    "print(low_sales)"
   ]
  },
  {
   "cell_type": "code",
   "execution_count": 13,
   "metadata": {
    "colab": {
     "base_uri": "https://localhost:8080/"
    },
    "id": "lNTFgCA0hIW2",
    "outputId": "25517f69-69da-4031-dfe4-fb9f9a44b01d"
   },
   "outputs": [
    {
     "name": "stdout",
     "output_type": "stream",
     "text": [
      "\n",
      "Aggregation:\n",
      "        Country  Sales\n",
      "0     Australia    450\n",
      "1       England    800\n",
      "2         India    200\n",
      "3   New Zealand    700\n",
      "4  South Africa    300\n",
      "5   West Indies   1000\n"
     ]
    }
   ],
   "source": [
    "agg_df=df.groupby('Country')['Sales'].sum().reset_index()\n",
    "print(\"\\nAggregation:\")\n",
    "print(agg_df)"
   ]
  },
  {
   "cell_type": "code",
   "execution_count": 15,
   "metadata": {
    "colab": {
     "base_uri": "https://localhost:8080/"
    },
    "id": "zO8OV6EhmDHO",
    "outputId": "cc7dd2ea-9c5d-4194-e31f-0a28c17340f4"
   },
   "outputs": [
    {
     "name": "stdout",
     "output_type": "stream",
     "text": [
      "\n",
      "Sorted Data:\n",
      "   ID       Name  Age       Country  Sales Name_Upper\n",
      "5   6  Sangharsh   30   West Indies   1000  SANGHARSH\n",
      "3   4     Fuzail   26       England    800     FUZAIL\n",
      "4   5     Govind   28   New Zealand    700     GOVIND\n",
      "1   2     Aditya   22     Australia    450     ADITYA\n",
      "2   3     Shadab   24  South Africa    300     SHADAB\n",
      "0   1    Atharva   20         India    200    ATHARVA\n"
     ]
    }
   ],
   "source": [
    "sorted_df=df.sort_values(by='Sales',ascending=False)\n",
    "print(\"\\nSorted Data:\")\n",
    "print(sorted_df)"
   ]
  },
  {
   "cell_type": "code",
   "execution_count": 17,
   "metadata": {
    "colab": {
     "base_uri": "https://localhost:8080/"
    },
    "id": "UNX96Knon9yG",
    "outputId": "39374d5d-7862-4173-b706-c482588bbff1"
   },
   "outputs": [
    {
     "name": "stdout",
     "output_type": "stream",
     "text": [
      "\n",
      "Derived Column (Sales Category):\n",
      "   ID       Name  Sales Sales_Category\n",
      "0   1    Atharva    200            Low\n",
      "1   2     Aditya    450           High\n",
      "2   3     Shadab    300            Low\n",
      "3   4     Fuzail    800           High\n",
      "4   5     Govind    700           High\n",
      "5   6  Sangharsh   1000           High\n"
     ]
    }
   ],
   "source": [
    "df['Sales_Category']=df['Sales'].apply(lambda x: 'High' if x>300 else 'Low')\n",
    "print(\"\\nDerived Column (Sales Category):\")\n",
    "print(df[['ID','Name','Sales','Sales_Category']])"
   ]
  },
  {
   "cell_type": "raw",
   "metadata": {},
   "source": []
  }
 ],
 "metadata": {
  "colab": {
   "provenance": []
  },
  "kernelspec": {
   "display_name": "Python [conda env:base] *",
   "language": "python",
   "name": "conda-base-py"
  },
  "language_info": {
   "codemirror_mode": {
    "name": "ipython",
    "version": 3
   },
   "file_extension": ".py",
   "mimetype": "text/x-python",
   "name": "python",
   "nbconvert_exporter": "python",
   "pygments_lexer": "ipython3",
   "version": "3.12.7"
  }
 },
 "nbformat": 4,
 "nbformat_minor": 4
}
